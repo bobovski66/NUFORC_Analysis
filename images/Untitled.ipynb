{
 "cells": [
  {
   "cell_type": "code",
   "execution_count": 2,
   "id": "af2b98a5-4c8e-4422-8306-b180d7a8a677",
   "metadata": {},
   "outputs": [
    {
     "name": "stdout",
     "output_type": "stream",
     "text": [
      "Renamed: Screenshot 2025-03-20 151015.png -> figure_01.png\n",
      "Renamed: Screenshot 2025-03-20 151201.png -> figure_02.png\n",
      "Renamed: Screenshot 2025-03-20 151332.png -> figure_03.png\n",
      "Renamed: Screenshot 2025-03-20 151347.png -> figure_04.png\n",
      "Renamed: Screenshot 2025-03-20 151402.png -> figure_05.png\n",
      "Renamed: Screenshot 2025-03-20 151426.png -> figure_06.png\n",
      "Renamed: Screenshot 2025-03-20 151536.png -> figure_07.png\n",
      "Renamed: Screenshot 2025-03-20 152435.png -> figure_08.png\n",
      "Renamed: Screenshot 2025-03-20 152721.png -> figure_09.png\n"
     ]
    }
   ],
   "source": [
    "import os\n",
    "\n",
    "def rename_images(directory, prefix=\"figure_\"):\n",
    "    # Get all PNG files sorted by modification time\n",
    "    files = sorted([f for f in os.listdir(directory) if f.endswith(\".png\")], key=lambda x: os.path.getmtime(os.path.join(directory, x)))\n",
    "    \n",
    "    for i, filename in enumerate(files, start=1):\n",
    "        new_name = f\"{prefix}{i:02d}.png\"\n",
    "        old_path = os.path.join(directory, filename)\n",
    "        new_path = os.path.join(directory, new_name)\n",
    "        os.rename(old_path, new_path)\n",
    "        print(f\"Renamed: {filename} -> {new_name}\")\n",
    "\n",
    "# Example usage\n",
    "rename_images(\".\")"
   ]
  },
  {
   "cell_type": "code",
   "execution_count": null,
   "id": "9008a7f2-c432-4fb8-9297-06210c23a53d",
   "metadata": {},
   "outputs": [],
   "source": []
  }
 ],
 "metadata": {
  "kernelspec": {
   "display_name": "Python 3 (ipykernel)",
   "language": "python",
   "name": "python3"
  },
  "language_info": {
   "codemirror_mode": {
    "name": "ipython",
    "version": 3
   },
   "file_extension": ".py",
   "mimetype": "text/x-python",
   "name": "python",
   "nbconvert_exporter": "python",
   "pygments_lexer": "ipython3",
   "version": "3.13.2"
  }
 },
 "nbformat": 4,
 "nbformat_minor": 5
}
